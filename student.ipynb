{
 "cells": [
  {
   "cell_type": "markdown",
   "metadata": {},
   "source": [
    "# Final Project Submission\n",
    "\n",
    "Please fill out:\n",
    "* Student name: Tino Pietraßyk\n",
    "* Student pace: full time\n",
    "* Scheduled project review date/time: \n",
    "* Instructor name: \n",
    "* Blog post URL:\n"
   ]
  },
  {
   "cell_type": "code",
   "execution_count": 1,
   "metadata": {},
   "outputs": [],
   "source": [
    "# Your code here - remember to use markdown cells for comments as well!"
   ]
  },
  {
   "cell_type": "markdown",
   "metadata": {},
   "source": [
    "## Gathering Information"
   ]
  },
  {
   "cell_type": "code",
   "execution_count": 2,
   "metadata": {},
   "outputs": [],
   "source": [
    "#import necessary Libraries\n",
    "import numpy as np\n",
    "import pandas as pd\n",
    "import matplotlib.pyplot as plt\n",
    "import seaborn as sns"
   ]
  },
  {
   "cell_type": "code",
   "execution_count": 3,
   "metadata": {},
   "outputs": [
    {
     "data": {
      "text/plain": [
       "(21597, 21)"
      ]
     },
     "execution_count": 3,
     "metadata": {},
     "output_type": "execute_result"
    }
   ],
   "source": [
    "raw_df = pd.read_csv(\"kc_house_data.csv\")\n",
    "raw_df.shape"
   ]
  },
  {
   "cell_type": "code",
   "execution_count": 4,
   "metadata": {},
   "outputs": [
    {
     "data": {
      "text/plain": [
       "yr_renovated    3842\n",
       "waterfront      2376\n",
       "view              63\n",
       "sqft_lot15         0\n",
       "date               0\n",
       "dtype: int64"
      ]
     },
     "execution_count": 4,
     "metadata": {},
     "output_type": "execute_result"
    }
   ],
   "source": [
    "raw_df.isna().sum().sort_values(ascending = False).head()"
   ]
  },
  {
   "cell_type": "code",
   "execution_count": 5,
   "metadata": {},
   "outputs": [
    {
     "data": {
      "image/png": "[encoded data removed]",
      "text/plain": [
       "<Figure size 720x144 with 1 Axes>"
      ]
     },
     "metadata": {
      "needs_background": "light"
     },
     "output_type": "display_data"
    }
   ],
   "source": [
    "missings_df =pd.DataFrame(round(100*raw_df.isna().sum() / raw_df.id.count(),1).sort_values(ascending = False), columns = [\"missings\"])\n",
    "missings_df = missings_df.loc[missings_df.missings!=0]\n",
    "fig = plt.figure(figsize=(10,2))\n",
    "plt.barh(missings_df.index,missings_df.missings);\n",
    "plt.ylabel(\"Variables\");\n",
    "plt.xlabel(\"missing vals (%)\");\n",
    "plt.title(\"NaN occurances in Data\");"
   ]
  },
  {
   "cell_type": "code",
   "execution_count": 6,
   "metadata": {
    "scrolled": false
   },
   "outputs": [
    {
     "name": "stdout",
     "output_type": "stream",
     "text": [
      "<class 'pandas.core.frame.DataFrame'>\n",
      "RangeIndex: 21597 entries, 0 to 21596\n",
      "Data columns (total 21 columns):\n",
      "id               21597 non-null int64\n",
      "date             21597 non-null object\n",
      "price            21597 non-null float64\n",
      "bedrooms         21597 non-null int64\n",
      "bathrooms        21597 non-null float64\n",
      "sqft_living      21597 non-null int64\n",
      "sqft_lot         21597 non-null int64\n",
      "floors           21597 non-null float64\n",
      "waterfront       19221 non-null float64\n",
      "view             21534 non-null float64\n",
      "condition        21597 non-null int64\n",
      "grade            21597 non-null int64\n",
      "sqft_above       21597 non-null int64\n",
      "sqft_basement    21597 non-null object\n",
      "yr_built         21597 non-null int64\n",
      "yr_renovated     17755 non-null float64\n",
      "zipcode          21597 non-null int64\n",
      "lat              21597 non-null float64\n",
      "long             21597 non-null float64\n",
      "sqft_living15    21597 non-null int64\n",
      "sqft_lot15       21597 non-null int64\n",
      "dtypes: float64(8), int64(11), object(2)\n",
      "memory usage: 3.5+ MB\n"
     ]
    }
   ],
   "source": [
    "raw_df.info()"
   ]
  },
  {
   "cell_type": "code",
   "execution_count": 7,
   "metadata": {
    "scrolled": true
   },
   "outputs": [
    {
     "data": {
      "text/html": [
       "<div>\n",
       "<style scoped>\n",
       "    .dataframe tbody tr th:only-of-type {\n",
       "        vertical-align: middle;\n",
       "    }\n",
       "\n",
       "    .dataframe tbody tr th {\n",
       "        vertical-align: top;\n",
       "    }\n",
       "\n",
       "    .dataframe thead th {\n",
       "        text-align: right;\n",
       "    }\n",
       "</style>\n",
       "<table border=\"1\" class=\"dataframe\">\n",
       "  <thead>\n",
       "    <tr style=\"text-align: right;\">\n",
       "      <th></th>\n",
       "      <th>id</th>\n",
       "      <th>date</th>\n",
       "      <th>price</th>\n",
       "      <th>bedrooms</th>\n",
       "      <th>bathrooms</th>\n",
       "      <th>sqft_living</th>\n",
       "      <th>sqft_lot</th>\n",
       "      <th>floors</th>\n",
       "      <th>waterfront</th>\n",
       "      <th>view</th>\n",
       "      <th>...</th>\n",
       "      <th>grade</th>\n",
       "      <th>sqft_above</th>\n",
       "      <th>sqft_basement</th>\n",
       "      <th>yr_built</th>\n",
       "      <th>yr_renovated</th>\n",
       "      <th>zipcode</th>\n",
       "      <th>lat</th>\n",
       "      <th>long</th>\n",
       "      <th>sqft_living15</th>\n",
       "      <th>sqft_lot15</th>\n",
       "    </tr>\n",
       "  </thead>\n",
       "  <tbody>\n",
       "    <tr>\n",
       "      <th>0</th>\n",
       "      <td>7129300520</td>\n",
       "      <td>10/13/2014</td>\n",
       "      <td>221900.0</td>\n",
       "      <td>3</td>\n",
       "      <td>1.00</td>\n",
       "      <td>1180</td>\n",
       "      <td>5650</td>\n",
       "      <td>1.0</td>\n",
       "      <td>NaN</td>\n",
       "      <td>0.0</td>\n",
       "      <td>...</td>\n",
       "      <td>7</td>\n",
       "      <td>1180</td>\n",
       "      <td>0.0</td>\n",
       "      <td>1955</td>\n",
       "      <td>0.0</td>\n",
       "      <td>98178</td>\n",
       "      <td>47.5112</td>\n",
       "      <td>-122.257</td>\n",
       "      <td>1340</td>\n",
       "      <td>5650</td>\n",
       "    </tr>\n",
       "    <tr>\n",
       "      <th>1</th>\n",
       "      <td>6414100192</td>\n",
       "      <td>12/9/2014</td>\n",
       "      <td>538000.0</td>\n",
       "      <td>3</td>\n",
       "      <td>2.25</td>\n",
       "      <td>2570</td>\n",
       "      <td>7242</td>\n",
       "      <td>2.0</td>\n",
       "      <td>0.0</td>\n",
       "      <td>0.0</td>\n",
       "      <td>...</td>\n",
       "      <td>7</td>\n",
       "      <td>2170</td>\n",
       "      <td>400.0</td>\n",
       "      <td>1951</td>\n",
       "      <td>1991.0</td>\n",
       "      <td>98125</td>\n",
       "      <td>47.7210</td>\n",
       "      <td>-122.319</td>\n",
       "      <td>1690</td>\n",
       "      <td>7639</td>\n",
       "    </tr>\n",
       "    <tr>\n",
       "      <th>2</th>\n",
       "      <td>5631500400</td>\n",
       "      <td>2/25/2015</td>\n",
       "      <td>180000.0</td>\n",
       "      <td>2</td>\n",
       "      <td>1.00</td>\n",
       "      <td>770</td>\n",
       "      <td>10000</td>\n",
       "      <td>1.0</td>\n",
       "      <td>0.0</td>\n",
       "      <td>0.0</td>\n",
       "      <td>...</td>\n",
       "      <td>6</td>\n",
       "      <td>770</td>\n",
       "      <td>0.0</td>\n",
       "      <td>1933</td>\n",
       "      <td>NaN</td>\n",
       "      <td>98028</td>\n",
       "      <td>47.7379</td>\n",
       "      <td>-122.233</td>\n",
       "      <td>2720</td>\n",
       "      <td>8062</td>\n",
       "    </tr>\n",
       "    <tr>\n",
       "      <th>3</th>\n",
       "      <td>2487200875</td>\n",
       "      <td>12/9/2014</td>\n",
       "      <td>604000.0</td>\n",
       "      <td>4</td>\n",
       "      <td>3.00</td>\n",
       "      <td>1960</td>\n",
       "      <td>5000</td>\n",
       "      <td>1.0</td>\n",
       "      <td>0.0</td>\n",
       "      <td>0.0</td>\n",
       "      <td>...</td>\n",
       "      <td>7</td>\n",
       "      <td>1050</td>\n",
       "      <td>910.0</td>\n",
       "      <td>1965</td>\n",
       "      <td>0.0</td>\n",
       "      <td>98136</td>\n",
       "      <td>47.5208</td>\n",
       "      <td>-122.393</td>\n",
       "      <td>1360</td>\n",
       "      <td>5000</td>\n",
       "    </tr>\n",
       "    <tr>\n",
       "      <th>4</th>\n",
       "      <td>1954400510</td>\n",
       "      <td>2/18/2015</td>\n",
       "      <td>510000.0</td>\n",
       "      <td>3</td>\n",
       "      <td>2.00</td>\n",
       "      <td>1680</td>\n",
       "      <td>8080</td>\n",
       "      <td>1.0</td>\n",
       "      <td>0.0</td>\n",
       "      <td>0.0</td>\n",
       "      <td>...</td>\n",
       "      <td>8</td>\n",
       "      <td>1680</td>\n",
       "      <td>0.0</td>\n",
       "      <td>1987</td>\n",
       "      <td>0.0</td>\n",
       "      <td>98074</td>\n",
       "      <td>47.6168</td>\n",
       "      <td>-122.045</td>\n",
       "      <td>1800</td>\n",
       "      <td>7503</td>\n",
       "    </tr>\n",
       "  </tbody>\n",
       "</table>\n",
       "<p>5 rows × 21 columns</p>\n",
       "</div>"
      ],
      "text/plain": [
       "           id        date     price  bedrooms  bathrooms  sqft_living  \\\n",
       "0  7129300520  10/13/2014  221900.0         3       1.00         1180   \n",
       "1  6414100192   12/9/2014  538000.0         3       2.25         2570   \n",
       "2  5631500400   2/25/2015  180000.0         2       1.00          770   \n",
       "3  2487200875   12/9/2014  604000.0         4       3.00         1960   \n",
       "4  1954400510   2/18/2015  510000.0         3       2.00         1680   \n",
       "\n",
       "   sqft_lot  floors  waterfront  view  ...  grade  sqft_above  sqft_basement  \\\n",
       "0      5650     1.0         NaN   0.0  ...      7        1180            0.0   \n",
       "1      7242     2.0         0.0   0.0  ...      7        2170          400.0   \n",
       "2     10000     1.0         0.0   0.0  ...      6         770            0.0   \n",
       "3      5000     1.0         0.0   0.0  ...      7        1050          910.0   \n",
       "4      8080     1.0         0.0   0.0  ...      8        1680            0.0   \n",
       "\n",
       "  yr_built  yr_renovated  zipcode      lat     long  sqft_living15  sqft_lot15  \n",
       "0     1955           0.0    98178  47.5112 -122.257           1340        5650  \n",
       "1     1951        1991.0    98125  47.7210 -122.319           1690        7639  \n",
       "2     1933           NaN    98028  47.7379 -122.233           2720        8062  \n",
       "3     1965           0.0    98136  47.5208 -122.393           1360        5000  \n",
       "4     1987           0.0    98074  47.6168 -122.045           1800        7503  \n",
       "\n",
       "[5 rows x 21 columns]"
      ]
     },
     "execution_count": 7,
     "metadata": {},
     "output_type": "execute_result"
    }
   ],
   "source": [
    "raw_df.head()"
   ]
  },
  {
   "cell_type": "markdown",
   "metadata": {},
   "source": [
    "## Cleaning"
   ]
  },
  {
   "cell_type": "markdown",
   "metadata": {},
   "source": [
    "Link to Dataset description: https://www.kaggle.com/harlfoxem/housesalesprediction"
   ]
  },
  {
   "cell_type": "markdown",
   "metadata": {},
   "source": [
    "### Data alterations"
   ]
  },
  {
   "cell_type": "code",
   "execution_count": 8,
   "metadata": {},
   "outputs": [],
   "source": [
    "cleaned_df = raw_df.copy()\n",
    "\n",
    "#cleaned_df.sqft_basement=cleaned_df.sqft_basement.apply(lambda x: float(x))"
   ]
  },
  {
   "cell_type": "markdown",
   "metadata": {},
   "source": [
    "### sqft_Basement"
   ]
  },
  {
   "cell_type": "code",
   "execution_count": 9,
   "metadata": {},
   "outputs": [
    {
     "data": {
      "text/plain": [
       "0.0      12826\n",
       "?          454\n",
       "600.0      217\n",
       "500.0      209\n",
       "700.0      208\n",
       "Name: sqft_basement, dtype: int64"
      ]
     },
     "execution_count": 9,
     "metadata": {},
     "output_type": "execute_result"
    }
   ],
   "source": [
    "#see the problem\n",
    "cleaned_df.sqft_basement.value_counts().head()"
   ]
  },
  {
   "cell_type": "code",
   "execution_count": 10,
   "metadata": {
    "scrolled": false
   },
   "outputs": [],
   "source": [
    "#replace \"?\" with placeholder and convert to Numbers\n",
    "cleaned_df.loc[raw_df.sqft_basement == \"?\", \"sqft_basement\"] = 99999\n",
    "cleaned_df.sqft_basement= cleaned_df.sqft_basement.apply(lambda x: float(x))\n",
    "\n",
    "#set the placeholdervalues to the median\n",
    "median = cleaned_df.loc[cleaned_df.sqft_basement != 99999, \"sqft_basement\"].median()\n",
    "cleaned_df.loc[cleaned_df.sqft_basement == 99999, \"sqft_basement\"] = median"
   ]
  },
  {
   "cell_type": "markdown",
   "metadata": {},
   "source": [
    "### yr_renovated"
   ]
  },
  {
   "cell_type": "code",
   "execution_count": 11,
   "metadata": {
    "scrolled": false
   },
   "outputs": [
    {
     "data": {
      "text/plain": [
       "3842"
      ]
     },
     "execution_count": 11,
     "metadata": {},
     "output_type": "execute_result"
    }
   ],
   "source": [
    "cleaned_df.yr_renovated.isna().sum()"
   ]
  },
  {
   "cell_type": "code",
   "execution_count": 12,
   "metadata": {},
   "outputs": [],
   "source": [
    "#Transform NaN Values to zeros and keep them for now.\n",
    "cleaned_df.yr_renovated.fillna(value=0, inplace=True)"
   ]
  },
  {
   "cell_type": "markdown",
   "metadata": {},
   "source": [
    "<b>Be aware ! Placeholders (0.0) are still present</b>"
   ]
  },
  {
   "cell_type": "markdown",
   "metadata": {},
   "source": [
    "### view (times house has been viewed by buyers)"
   ]
  },
  {
   "cell_type": "code",
   "execution_count": 13,
   "metadata": {},
   "outputs": [
    {
     "data": {
      "text/plain": [
       "63"
      ]
     },
     "execution_count": 13,
     "metadata": {},
     "output_type": "execute_result"
    }
   ],
   "source": [
    "cleaned_df.view.isna().sum()"
   ]
  },
  {
   "cell_type": "code",
   "execution_count": 14,
   "metadata": {},
   "outputs": [],
   "source": [
    "#Transform NaN Values to zeros and keep them for now.\n",
    "cleaned_df.view.fillna(value=0, inplace=True)"
   ]
  },
  {
   "cell_type": "code",
   "execution_count": 15,
   "metadata": {},
   "outputs": [
    {
     "data": {
      "text/plain": [
       "0.0    19485\n",
       "2.0      957\n",
       "3.0      508\n",
       "1.0      330\n",
       "4.0      317\n",
       "Name: view, dtype: int64"
      ]
     },
     "execution_count": 15,
     "metadata": {},
     "output_type": "execute_result"
    }
   ],
   "source": [
    "cleaned_df.view.value_counts()"
   ]
  },
  {
   "cell_type": "markdown",
   "metadata": {},
   "source": [
    "View Values ranging from 0 to 4"
   ]
  },
  {
   "cell_type": "markdown",
   "metadata": {},
   "source": [
    "### waterfront (has a view to a waterfront)"
   ]
  },
  {
   "cell_type": "code",
   "execution_count": 16,
   "metadata": {},
   "outputs": [
    {
     "data": {
      "text/plain": [
       "2376"
      ]
     },
     "execution_count": 16,
     "metadata": {},
     "output_type": "execute_result"
    }
   ],
   "source": [
    "cleaned_df.waterfront.isna().sum()"
   ]
  },
  {
   "cell_type": "code",
   "execution_count": 17,
   "metadata": {},
   "outputs": [
    {
     "data": {
      "text/plain": [
       "0.0    19075\n",
       "1.0      146\n",
       "Name: waterfront, dtype: int64"
      ]
     },
     "execution_count": 17,
     "metadata": {},
     "output_type": "execute_result"
    }
   ],
   "source": [
    "cleaned_df.waterfront.value_counts()"
   ]
  },
  {
   "cell_type": "code",
   "execution_count": 18,
   "metadata": {},
   "outputs": [],
   "source": [
    "#Columns could be dropped entirely, because there are just a few rows with actual data\n",
    "#Transform NaN Values to zeros and keep them for now.\n",
    "cleaned_df.waterfront.fillna(value=0, inplace=True)"
   ]
  },
  {
   "cell_type": "markdown",
   "metadata": {},
   "source": [
    "### date (date when house was sold)"
   ]
  },
  {
   "cell_type": "code",
   "execution_count": 19,
   "metadata": {},
   "outputs": [
    {
     "data": {
      "text/plain": [
       "dtype('O')"
      ]
     },
     "execution_count": 19,
     "metadata": {},
     "output_type": "execute_result"
    }
   ],
   "source": [
    "cleaned_df.date.dtypes"
   ]
  },
  {
   "cell_type": "code",
   "execution_count": 20,
   "metadata": {
    "scrolled": false
   },
   "outputs": [],
   "source": [
    "cleaned_df.date = pd.to_datetime(cleaned_df.date, format=\"%m/%d/%Y\")"
   ]
  },
  {
   "cell_type": "code",
   "execution_count": 21,
   "metadata": {
    "scrolled": true
   },
   "outputs": [
    {
     "data": {
      "text/plain": [
       "id                    int64\n",
       "date         datetime64[ns]\n",
       "price               float64\n",
       "bedrooms              int64\n",
       "bathrooms           float64\n",
       "dtype: object"
      ]
     },
     "execution_count": 21,
     "metadata": {},
     "output_type": "execute_result"
    }
   ],
   "source": [
    "cleaned_df.dtypes.head()"
   ]
  },
  {
   "cell_type": "markdown",
   "metadata": {},
   "source": [
    "### convert data into metric\n",
    "Since imperial data does not personally help me with understanding the data and shouldnt be used by anyone anyways I decided to convert area data to the metric system.\n"
   ]
  },
  {
   "cell_type": "code",
   "execution_count": 22,
   "metadata": {},
   "outputs": [],
   "source": [
    "## keep a cleaned imperial copy to quickly change Data if needed\n",
    "cleaned_df_imperial = cleaned_df.copy()\n",
    "\n",
    "## get a quick overview on which columns need to be inserted to the conversionlist\n",
    "\n",
    "#for i in range(0,len(cleaned_df.columns)):\n",
    "#    col = cleaned_df.columns[i]\n",
    "#    print(\"{} : {}\".format(i,col))"
   ]
  },
  {
   "cell_type": "code",
   "execution_count": 23,
   "metadata": {},
   "outputs": [],
   "source": [
    "#List of Columns that need to be converted\n",
    "convert_list = [5,6,12,13,19,20]\n",
    "\n",
    "#conversion function\n",
    "def scale (df,cols,scalar,rename=0):\n",
    "    \"\"\"Multiplies all values in a column if given a dataframe, a list of column indecies and a scalar\"\"\"\n",
    "    df = df.copy()\n",
    "    for col in cols:\n",
    "        df[df.columns[col]]=df[df.columns[col]].apply(lambda x: x*scalar)\n",
    "        if rename:          \n",
    "            df=df.rename(columns={df.columns[col]:df.columns[col].replace(\"sqft\",\"qm\")})\n",
    "    return df"
   ]
  },
  {
   "cell_type": "code",
   "execution_count": 24,
   "metadata": {},
   "outputs": [],
   "source": [
    "#be aware! only run once!\n",
    "cleaned_df = scale(cleaned_df,convert_list,1/10.764,1)\n"
   ]
  },
  {
   "cell_type": "code",
   "execution_count": 25,
   "metadata": {},
   "outputs": [],
   "source": [
    "cleaned_non_transformed_metric_df = cleaned_df.copy()"
   ]
  },
  {
   "cell_type": "markdown",
   "metadata": {},
   "source": [
    "### basement"
   ]
  },
  {
   "cell_type": "markdown",
   "metadata": {},
   "source": [
    "Since basement area does not count into living area for a house I consider it to be feature. Therefor Basement Data i categorized as \"has basement\" or not"
   ]
  },
  {
   "cell_type": "code",
   "execution_count": 26,
   "metadata": {},
   "outputs": [],
   "source": [
    "cleaned_df.qm_basement = cleaned_df.qm_basement.apply(lambda x: 1 if x !=0 else 0)"
   ]
  },
  {
   "cell_type": "markdown",
   "metadata": {},
   "source": [
    "### Overview over cleaned Data"
   ]
  },
  {
   "cell_type": "code",
   "execution_count": 27,
   "metadata": {},
   "outputs": [
    {
     "data": {
      "image/png": "[encoded data removed]",
      "text/plain": [
       "<Figure size 1728x2160 with 20 Axes>"
      ]
     },
     "metadata": {
      "needs_background": "light"
     },
     "output_type": "display_data"
    }
   ],
   "source": [
    "df=cleaned_df\n",
    "fig, axes = plt.subplots(nrows=5, ncols=4, figsize=(24,30))\n",
    "for n,c in enumerate(df.columns[2:]):\n",
    "    row = n//4\n",
    "    col = n%4\n",
    "    ax = axes[row][col]\n",
    "    sns.distplot(df[c], ax=ax).set(title=c.title()+\" Distribution\", ylabel=\"Y-Axis\")"
   ]
  },
  {
   "cell_type": "markdown",
   "metadata": {},
   "source": [
    "Histograms and Distribution plots show:\n",
    "<table align=left>\n",
    "    <tr><th>Nominal</th><th>Categorical</th><th>Metric</th><th>Other</th></tr>\n",
    "<tr><td><ul>\n",
    "  <li>Zipcode</li>\n",
    "  <li>Waterfront</li>\n",
    "    </ul></td>\n",
    "<td><ul>\n",
    "<li>Bedrooms</li>\n",
    "  <li>Bathrooms</li>\n",
    "  <li>Condition</li>\n",
    "  <li>Grade</li>\n",
    "  <li>Floors</li>\n",
    "  <li>View</li>\n",
    "</ul></td>\n",
    "<td><ul>\n",
    "<li>Price</li>\n",
    "  <li>sqft_living</li>\n",
    "  <li>sqft_living15</li>\n",
    "  <li>sqft_lot</li>\n",
    "  <li>sqft_lot15</li>\n",
    "  <li>sqft_above</li>\n",
    "  <li>sqft_basement</li>\n",
    "</ul></td>\n",
    "<td><ul>\n",
    "<li>date</li>\n",
    "  <li>long</li>\n",
    "  <li>lat</li>\n",
    "</ul></td>\n",
    "</tr>\n",
    "</table>"
   ]
  },
  {
   "cell_type": "markdown",
   "metadata": {},
   "source": [
    "## Applying Transformations"
   ]
  },
  {
   "cell_type": "markdown",
   "metadata": {},
   "source": [
    "area Data is skewed , so I will apply a log transformation"
   ]
  },
  {
   "cell_type": "markdown",
   "metadata": {},
   "source": [
    "### log transformation"
   ]
  },
  {
   "cell_type": "code",
   "execution_count": 28,
   "metadata": {},
   "outputs": [],
   "source": [
    "cleaned_non_transformed_df = cleaned_df.copy()\n",
    "log_transform_cols = [\"qm_lot\",\"qm_living\",\"qm_above\",\"qm_living15\",\"qm_lot15\"]"
   ]
  },
  {
   "cell_type": "code",
   "execution_count": 29,
   "metadata": {},
   "outputs": [
    {
     "data": {
      "text/plain": [
       "qm_lot         0\n",
       "qm_living      0\n",
       "qm_above       0\n",
       "qm_living15    0\n",
       "qm_lot15       0\n",
       "dtype: int64"
      ]
     },
     "execution_count": 29,
     "metadata": {},
     "output_type": "execute_result"
    }
   ],
   "source": [
    "#check for Zeros\n",
    "cleaned_df[log_transform_cols].applymap(lambda x: None if x==0 else True).isnull().sum()\n"
   ]
  },
  {
   "cell_type": "code",
   "execution_count": 30,
   "metadata": {},
   "outputs": [],
   "source": [
    "def log_transform(df,col_list):\n",
    "    \"\"\"Takes in DataFrame and a List of column names, will return Dataframe with\n",
    "    log transformation apllied to selected columns\"\"\"\n",
    "    df=df.copy()\n",
    "    for col in col_list:\n",
    "        df[col]=df[col].apply(lambda x: np.log(x))\n",
    "    return df\n",
    "    \n",
    "    "
   ]
  },
  {
   "cell_type": "code",
   "execution_count": 31,
   "metadata": {},
   "outputs": [],
   "source": [
    "cleaned_df = log_transform(cleaned_df,log_transform_cols)"
   ]
  },
  {
   "cell_type": "markdown",
   "metadata": {},
   "source": [
    "### one-hot encoding for categorical values"
   ]
  },
  {
   "cell_type": "code",
   "execution_count": 32,
   "metadata": {},
   "outputs": [],
   "source": [
    "#define what columns to transform, bins, labels and abbreviations\n",
    "col_kwargs = [{\"name\": \"bedrooms\", \"bins\":[0,1,2,3,4,5,99], \"labels\":[1,2,3,4,5,\"6+\"], \"abr\":\"bed_\"},\n",
    "              {\"name\": \"bathrooms\", \"bins\":[0,0.99,1.99,2.99,3.99,4.99,99], \"labels\":[\"shared\",1,2,3,4,\"5+\"],\"abr\":\"bath_\"},\n",
    "              {\"name\": \"floors\", \"bins\":[0,1.1,1.6,2.1,2.6,3.1,99], \"labels\":[1,1.5,2,2.5,3,3.5],\"abr\":\"flr_\"},\n",
    "              {\"name\": \"grade\", \"bins\":range(0,14), \"labels\":range(1,14),\"abr\":\"grd_\"},\n",
    "              {\"name\": \"condition\", \"bins\":[0,1,2,3,4,5,99], \"labels\":[1,2,3,4,5,\"5+\"],\"abr\":\"cdt_\"},\n",
    "             ]"
   ]
  },
  {
   "cell_type": "code",
   "execution_count": 33,
   "metadata": {},
   "outputs": [],
   "source": [
    "def dummy_transformation(df,col_kwargs,one_hot = True):\n",
    "    \"\"\"run one-hot transformation on target columns. Columns must be passed as a list of dicts\n",
    "    providing the followong parameters: name(str), bins(list), labels(list), abr(str) , \"\"\"\n",
    "    df=df.copy()\n",
    "    for col in col_kwargs:\n",
    "        df[col[\"name\"]]=pd.cut(df[col[\"name\"]],bins=col[\"bins\"],labels=col[\"labels\"])\n",
    "        if one_hot:\n",
    "            dummy = pd.get_dummies(data=df[col[\"name\"]],prefix=col[\"abr\"],drop_first=True)\n",
    "            df = pd.concat([df,dummy], axis=1)\n",
    "            df = df.drop(col[\"name\"], axis=1)\n",
    "    return df\n",
    "        \n",
    "        "
   ]
  },
  {
   "cell_type": "code",
   "execution_count": 34,
   "metadata": {},
   "outputs": [],
   "source": [
    "cleaned_transformed_non_dummy_df = cleaned_df.copy()\n",
    "cleaned_transformed_dummy_non_onehot = dummy_transformation(cleaned_df,col_kwargs,False) \n",
    "cleaned_transformed_dummy_df = dummy_transformation(cleaned_df,col_kwargs)"
   ]
  },
  {
   "cell_type": "code",
   "execution_count": 35,
   "metadata": {
    "scrolled": false
   },
   "outputs": [
    {
     "data": {
      "text/html": [
       "<div>\n",
       "<style scoped>\n",
       "    .dataframe tbody tr th:only-of-type {\n",
       "        vertical-align: middle;\n",
       "    }\n",
       "\n",
       "    .dataframe tbody tr th {\n",
       "        vertical-align: top;\n",
       "    }\n",
       "\n",
       "    .dataframe thead th {\n",
       "        text-align: right;\n",
       "    }\n",
       "</style>\n",
       "<table border=\"1\" class=\"dataframe\">\n",
       "  <thead>\n",
       "    <tr style=\"text-align: right;\">\n",
       "      <th></th>\n",
       "      <th>id</th>\n",
       "      <th>price</th>\n",
       "      <th>bedrooms</th>\n",
       "      <th>bathrooms</th>\n",
       "      <th>qm_living</th>\n",
       "      <th>qm_lot</th>\n",
       "      <th>floors</th>\n",
       "      <th>waterfront</th>\n",
       "      <th>view</th>\n",
       "      <th>condition</th>\n",
       "      <th>grade</th>\n",
       "      <th>qm_above</th>\n",
       "      <th>qm_basement</th>\n",
       "      <th>yr_built</th>\n",
       "      <th>yr_renovated</th>\n",
       "      <th>zipcode</th>\n",
       "      <th>lat</th>\n",
       "      <th>long</th>\n",
       "      <th>qm_living15</th>\n",
       "      <th>qm_lot15</th>\n",
       "    </tr>\n",
       "  </thead>\n",
       "  <tbody>\n",
       "    <tr>\n",
       "      <th>id</th>\n",
       "      <td>1</td>\n",
       "      <td></td>\n",
       "      <td></td>\n",
       "      <td></td>\n",
       "      <td></td>\n",
       "      <td></td>\n",
       "      <td></td>\n",
       "      <td></td>\n",
       "      <td></td>\n",
       "      <td></td>\n",
       "      <td></td>\n",
       "      <td></td>\n",
       "      <td></td>\n",
       "      <td></td>\n",
       "      <td></td>\n",
       "      <td></td>\n",
       "      <td></td>\n",
       "      <td></td>\n",
       "      <td></td>\n",
       "      <td></td>\n",
       "    </tr>\n",
       "    <tr>\n",
       "      <th>price</th>\n",
       "      <td></td>\n",
       "      <td>1</td>\n",
       "      <td></td>\n",
       "      <td></td>\n",
       "      <td></td>\n",
       "      <td></td>\n",
       "      <td></td>\n",
       "      <td></td>\n",
       "      <td></td>\n",
       "      <td></td>\n",
       "      <td></td>\n",
       "      <td></td>\n",
       "      <td></td>\n",
       "      <td></td>\n",
       "      <td></td>\n",
       "      <td></td>\n",
       "      <td></td>\n",
       "      <td></td>\n",
       "      <td></td>\n",
       "      <td></td>\n",
       "    </tr>\n",
       "    <tr>\n",
       "      <th>bedrooms</th>\n",
       "      <td></td>\n",
       "      <td></td>\n",
       "      <td>1</td>\n",
       "      <td></td>\n",
       "      <td></td>\n",
       "      <td></td>\n",
       "      <td></td>\n",
       "      <td></td>\n",
       "      <td></td>\n",
       "      <td></td>\n",
       "      <td></td>\n",
       "      <td></td>\n",
       "      <td></td>\n",
       "      <td></td>\n",
       "      <td></td>\n",
       "      <td></td>\n",
       "      <td></td>\n",
       "      <td></td>\n",
       "      <td></td>\n",
       "      <td></td>\n",
       "    </tr>\n",
       "    <tr>\n",
       "      <th>bathrooms</th>\n",
       "      <td></td>\n",
       "      <td></td>\n",
       "      <td></td>\n",
       "      <td>1</td>\n",
       "      <td>0.762135</td>\n",
       "      <td></td>\n",
       "      <td></td>\n",
       "      <td></td>\n",
       "      <td></td>\n",
       "      <td></td>\n",
       "      <td></td>\n",
       "      <td></td>\n",
       "      <td></td>\n",
       "      <td></td>\n",
       "      <td></td>\n",
       "      <td></td>\n",
       "      <td></td>\n",
       "      <td></td>\n",
       "      <td></td>\n",
       "      <td></td>\n",
       "    </tr>\n",
       "    <tr>\n",
       "      <th>qm_living</th>\n",
       "      <td></td>\n",
       "      <td></td>\n",
       "      <td></td>\n",
       "      <td>0.762135</td>\n",
       "      <td>1</td>\n",
       "      <td></td>\n",
       "      <td></td>\n",
       "      <td></td>\n",
       "      <td></td>\n",
       "      <td></td>\n",
       "      <td>0.743038</td>\n",
       "      <td>0.864979</td>\n",
       "      <td></td>\n",
       "      <td></td>\n",
       "      <td></td>\n",
       "      <td></td>\n",
       "      <td></td>\n",
       "      <td></td>\n",
       "      <td>0.746836</td>\n",
       "      <td></td>\n",
       "    </tr>\n",
       "    <tr>\n",
       "      <th>qm_lot</th>\n",
       "      <td></td>\n",
       "      <td></td>\n",
       "      <td></td>\n",
       "      <td></td>\n",
       "      <td></td>\n",
       "      <td>1</td>\n",
       "      <td></td>\n",
       "      <td></td>\n",
       "      <td></td>\n",
       "      <td></td>\n",
       "      <td></td>\n",
       "      <td></td>\n",
       "      <td></td>\n",
       "      <td></td>\n",
       "      <td></td>\n",
       "      <td></td>\n",
       "      <td></td>\n",
       "      <td></td>\n",
       "      <td></td>\n",
       "      <td>0.918665</td>\n",
       "    </tr>\n",
       "    <tr>\n",
       "      <th>floors</th>\n",
       "      <td></td>\n",
       "      <td></td>\n",
       "      <td></td>\n",
       "      <td></td>\n",
       "      <td></td>\n",
       "      <td></td>\n",
       "      <td>1</td>\n",
       "      <td></td>\n",
       "      <td></td>\n",
       "      <td></td>\n",
       "      <td></td>\n",
       "      <td></td>\n",
       "      <td></td>\n",
       "      <td></td>\n",
       "      <td></td>\n",
       "      <td></td>\n",
       "      <td></td>\n",
       "      <td></td>\n",
       "      <td></td>\n",
       "      <td></td>\n",
       "    </tr>\n",
       "    <tr>\n",
       "      <th>waterfront</th>\n",
       "      <td></td>\n",
       "      <td></td>\n",
       "      <td></td>\n",
       "      <td></td>\n",
       "      <td></td>\n",
       "      <td></td>\n",
       "      <td></td>\n",
       "      <td>1</td>\n",
       "      <td></td>\n",
       "      <td></td>\n",
       "      <td></td>\n",
       "      <td></td>\n",
       "      <td></td>\n",
       "      <td></td>\n",
       "      <td></td>\n",
       "      <td></td>\n",
       "      <td></td>\n",
       "      <td></td>\n",
       "      <td></td>\n",
       "      <td></td>\n",
       "    </tr>\n",
       "    <tr>\n",
       "      <th>view</th>\n",
       "      <td></td>\n",
       "      <td></td>\n",
       "      <td></td>\n",
       "      <td></td>\n",
       "      <td></td>\n",
       "      <td></td>\n",
       "      <td></td>\n",
       "      <td></td>\n",
       "      <td>1</td>\n",
       "      <td></td>\n",
       "      <td></td>\n",
       "      <td></td>\n",
       "      <td></td>\n",
       "      <td></td>\n",
       "      <td></td>\n",
       "      <td></td>\n",
       "      <td></td>\n",
       "      <td></td>\n",
       "      <td></td>\n",
       "      <td></td>\n",
       "    </tr>\n",
       "    <tr>\n",
       "      <th>condition</th>\n",
       "      <td></td>\n",
       "      <td></td>\n",
       "      <td></td>\n",
       "      <td></td>\n",
       "      <td></td>\n",
       "      <td></td>\n",
       "      <td></td>\n",
       "      <td></td>\n",
       "      <td></td>\n",
       "      <td>1</td>\n",
       "      <td></td>\n",
       "      <td></td>\n",
       "      <td></td>\n",
       "      <td></td>\n",
       "      <td></td>\n",
       "      <td></td>\n",
       "      <td></td>\n",
       "      <td></td>\n",
       "      <td></td>\n",
       "      <td></td>\n",
       "    </tr>\n",
       "    <tr>\n",
       "      <th>grade</th>\n",
       "      <td></td>\n",
       "      <td></td>\n",
       "      <td></td>\n",
       "      <td></td>\n",
       "      <td>0.743038</td>\n",
       "      <td></td>\n",
       "      <td></td>\n",
       "      <td></td>\n",
       "      <td></td>\n",
       "      <td></td>\n",
       "      <td>1</td>\n",
       "      <td>0.742869</td>\n",
       "      <td></td>\n",
       "      <td></td>\n",
       "      <td></td>\n",
       "      <td></td>\n",
       "      <td></td>\n",
       "      <td></td>\n",
       "      <td></td>\n",
       "      <td></td>\n",
       "    </tr>\n",
       "    <tr>\n",
       "      <th>qm_above</th>\n",
       "      <td></td>\n",
       "      <td></td>\n",
       "      <td></td>\n",
       "      <td></td>\n",
       "      <td>0.864979</td>\n",
       "      <td></td>\n",
       "      <td></td>\n",
       "      <td></td>\n",
       "      <td></td>\n",
       "      <td></td>\n",
       "      <td>0.742869</td>\n",
       "      <td>1</td>\n",
       "      <td></td>\n",
       "      <td></td>\n",
       "      <td></td>\n",
       "      <td></td>\n",
       "      <td></td>\n",
       "      <td></td>\n",
       "      <td>0.713102</td>\n",
       "      <td></td>\n",
       "    </tr>\n",
       "    <tr>\n",
       "      <th>qm_basement</th>\n",
       "      <td></td>\n",
       "      <td></td>\n",
       "      <td></td>\n",
       "      <td></td>\n",
       "      <td></td>\n",
       "      <td></td>\n",
       "      <td></td>\n",
       "      <td></td>\n",
       "      <td></td>\n",
       "      <td></td>\n",
       "      <td></td>\n",
       "      <td></td>\n",
       "      <td>1</td>\n",
       "      <td></td>\n",
       "      <td></td>\n",
       "      <td></td>\n",
       "      <td></td>\n",
       "      <td></td>\n",
       "      <td></td>\n",
       "      <td></td>\n",
       "    </tr>\n",
       "    <tr>\n",
       "      <th>yr_built</th>\n",
       "      <td></td>\n",
       "      <td></td>\n",
       "      <td></td>\n",
       "      <td></td>\n",
       "      <td></td>\n",
       "      <td></td>\n",
       "      <td></td>\n",
       "      <td></td>\n",
       "      <td></td>\n",
       "      <td></td>\n",
       "      <td></td>\n",
       "      <td></td>\n",
       "      <td></td>\n",
       "      <td>1</td>\n",
       "      <td></td>\n",
       "      <td></td>\n",
       "      <td></td>\n",
       "      <td></td>\n",
       "      <td></td>\n",
       "      <td></td>\n",
       "    </tr>\n",
       "    <tr>\n",
       "      <th>yr_renovated</th>\n",
       "      <td></td>\n",
       "      <td></td>\n",
       "      <td></td>\n",
       "      <td></td>\n",
       "      <td></td>\n",
       "      <td></td>\n",
       "      <td></td>\n",
       "      <td></td>\n",
       "      <td></td>\n",
       "      <td></td>\n",
       "      <td></td>\n",
       "      <td></td>\n",
       "      <td></td>\n",
       "      <td></td>\n",
       "      <td>1</td>\n",
       "      <td></td>\n",
       "      <td></td>\n",
       "      <td></td>\n",
       "      <td></td>\n",
       "      <td></td>\n",
       "    </tr>\n",
       "    <tr>\n",
       "      <th>zipcode</th>\n",
       "      <td></td>\n",
       "      <td></td>\n",
       "      <td></td>\n",
       "      <td></td>\n",
       "      <td></td>\n",
       "      <td></td>\n",
       "      <td></td>\n",
       "      <td></td>\n",
       "      <td></td>\n",
       "      <td></td>\n",
       "      <td></td>\n",
       "      <td></td>\n",
       "      <td></td>\n",
       "      <td></td>\n",
       "      <td></td>\n",
       "      <td>1</td>\n",
       "      <td></td>\n",
       "      <td></td>\n",
       "      <td></td>\n",
       "      <td></td>\n",
       "    </tr>\n",
       "    <tr>\n",
       "      <th>lat</th>\n",
       "      <td></td>\n",
       "      <td></td>\n",
       "      <td></td>\n",
       "      <td></td>\n",
       "      <td></td>\n",
       "      <td></td>\n",
       "      <td></td>\n",
       "      <td></td>\n",
       "      <td></td>\n",
       "      <td></td>\n",
       "      <td></td>\n",
       "      <td></td>\n",
       "      <td></td>\n",
       "      <td></td>\n",
       "      <td></td>\n",
       "      <td></td>\n",
       "      <td>1</td>\n",
       "      <td></td>\n",
       "      <td></td>\n",
       "      <td></td>\n",
       "    </tr>\n",
       "    <tr>\n",
       "      <th>long</th>\n",
       "      <td></td>\n",
       "      <td></td>\n",
       "      <td></td>\n",
       "      <td></td>\n",
       "      <td></td>\n",
       "      <td></td>\n",
       "      <td></td>\n",
       "      <td></td>\n",
       "      <td></td>\n",
       "      <td></td>\n",
       "      <td></td>\n",
       "      <td></td>\n",
       "      <td></td>\n",
       "      <td></td>\n",
       "      <td></td>\n",
       "      <td></td>\n",
       "      <td></td>\n",
       "      <td>1</td>\n",
       "      <td></td>\n",
       "      <td></td>\n",
       "    </tr>\n",
       "    <tr>\n",
       "      <th>qm_living15</th>\n",
       "      <td></td>\n",
       "      <td></td>\n",
       "      <td></td>\n",
       "      <td></td>\n",
       "      <td>0.746836</td>\n",
       "      <td></td>\n",
       "      <td></td>\n",
       "      <td></td>\n",
       "      <td></td>\n",
       "      <td></td>\n",
       "      <td></td>\n",
       "      <td>0.713102</td>\n",
       "      <td></td>\n",
       "      <td></td>\n",
       "      <td></td>\n",
       "      <td></td>\n",
       "      <td></td>\n",
       "      <td></td>\n",
       "      <td>1</td>\n",
       "      <td></td>\n",
       "    </tr>\n",
       "    <tr>\n",
       "      <th>qm_lot15</th>\n",
       "      <td></td>\n",
       "      <td></td>\n",
       "      <td></td>\n",
       "      <td></td>\n",
       "      <td></td>\n",
       "      <td>0.918665</td>\n",
       "      <td></td>\n",
       "      <td></td>\n",
       "      <td></td>\n",
       "      <td></td>\n",
       "      <td></td>\n",
       "      <td></td>\n",
       "      <td></td>\n",
       "      <td></td>\n",
       "      <td></td>\n",
       "      <td></td>\n",
       "      <td></td>\n",
       "      <td></td>\n",
       "      <td></td>\n",
       "      <td>1</td>\n",
       "    </tr>\n",
       "  </tbody>\n",
       "</table>\n",
       "</div>"
      ],
      "text/plain": [
       "             id price bedrooms bathrooms qm_living    qm_lot floors  \\\n",
       "id            1                                                       \n",
       "price               1                                                 \n",
       "bedrooms                     1                                        \n",
       "bathrooms                              1  0.762135                    \n",
       "qm_living                       0.762135         1                    \n",
       "qm_lot                                                     1          \n",
       "floors                                                            1   \n",
       "waterfront                                                            \n",
       "view                                                                  \n",
       "condition                                                             \n",
       "grade                                     0.743038                    \n",
       "qm_above                                  0.864979                    \n",
       "qm_basement                                                           \n",
       "yr_built                                                              \n",
       "yr_renovated                                                          \n",
       "zipcode                                                               \n",
       "lat                                                                   \n",
       "long                                                                  \n",
       "qm_living15                               0.746836                    \n",
       "qm_lot15                                            0.918665          \n",
       "\n",
       "             waterfront view condition     grade  qm_above qm_basement  \\\n",
       "id                                                                       \n",
       "price                                                                    \n",
       "bedrooms                                                                 \n",
       "bathrooms                                                                \n",
       "qm_living                               0.743038  0.864979               \n",
       "qm_lot                                                                   \n",
       "floors                                                                   \n",
       "waterfront            1                                                  \n",
       "view                       1                                             \n",
       "condition                            1                                   \n",
       "grade                                          1  0.742869               \n",
       "qm_above                                0.742869         1               \n",
       "qm_basement                                                          1   \n",
       "yr_built                                                                 \n",
       "yr_renovated                                                             \n",
       "zipcode                                                                  \n",
       "lat                                                                      \n",
       "long                                                                     \n",
       "qm_living15                                       0.713102               \n",
       "qm_lot15                                                                 \n",
       "\n",
       "             yr_built yr_renovated zipcode lat long qm_living15  qm_lot15  \n",
       "id                                                                         \n",
       "price                                                                      \n",
       "bedrooms                                                                   \n",
       "bathrooms                                                                  \n",
       "qm_living                                              0.746836            \n",
       "qm_lot                                                           0.918665  \n",
       "floors                                                                     \n",
       "waterfront                                                                 \n",
       "view                                                                       \n",
       "condition                                                                  \n",
       "grade                                                                      \n",
       "qm_above                                               0.713102            \n",
       "qm_basement                                                                \n",
       "yr_built            1                                                      \n",
       "yr_renovated                     1                                         \n",
       "zipcode                                  1                                 \n",
       "lat                                          1                             \n",
       "long                                              1                        \n",
       "qm_living15                                                   1            \n",
       "qm_lot15                                                                1  "
      ]
     },
     "execution_count": 35,
     "metadata": {},
     "output_type": "execute_result"
    }
   ],
   "source": [
    "corr_df = cleaned_df.corr()\n",
    "corr_df.applymap(lambda x: x if abs(x)>=0.7 else \"\")"
   ]
  },
  {
   "cell_type": "code",
   "execution_count": 36,
   "metadata": {
    "scrolled": true
   },
   "outputs": [
    {
     "data": {
      "text/plain": [
       "price          1.000000\n",
       "grade          0.667951\n",
       "qm_living      0.611839\n",
       "qm_living15    0.543829\n",
       "qm_above       0.542675\n",
       "Name: price, dtype: float64"
      ]
     },
     "execution_count": 36,
     "metadata": {},
     "output_type": "execute_result"
    }
   ],
   "source": [
    "corr_df.price.sort_values(ascending=False).head()"
   ]
  },
  {
   "cell_type": "markdown",
   "metadata": {},
   "source": [
    "## Likelyhood Analysis - What makes a house more likely to be sold?"
   ]
  },
  {
   "cell_type": "markdown",
   "metadata": {},
   "source": [
    "The underlying kc-housing data set provides only data of those houses that where sold in KC ,meaning that the distribution of features should be a good estimator on how likely a feature combination will result in a sell."
   ]
  },
  {
   "cell_type": "markdown",
   "metadata": {},
   "source": [
    "I will investigate the following features, since they are the most basic:\n",
    "* Number of Bedrooms\n",
    "* Number of Bathrooms\n",
    "* Living Space"
   ]
  },
  {
   "cell_type": "code",
   "execution_count": 37,
   "metadata": {
    "scrolled": true
   },
   "outputs": [
    {
     "data": {
      "image/png": "[encoded data removed]",
      "text/plain": [
       "<Figure size 432x288 with 1 Axes>"
      ]
     },
     "metadata": {
      "needs_background": "light"
     },
     "output_type": "display_data"
    }
   ],
   "source": [
    "# Bedrooms\n",
    "df = cleaned_transformed_dummy_non_onehot\n",
    "(df.bedrooms.value_counts(normalize=True).sort_index()*100).plot.bar(title=\"% of overall sales vs #Bedrooms\");"
   ]
  },
  {
   "cell_type": "code",
   "execution_count": 38,
   "metadata": {},
   "outputs": [
    {
     "data": {
      "image/png": "[encoded data removed]",
      "text/plain": [
       "<Figure size 432x288 with 1 Axes>"
      ]
     },
     "metadata": {
      "needs_background": "light"
     },
     "output_type": "display_data"
    }
   ],
   "source": [
    "# Bathrooms\n",
    "(df.bathrooms.value_counts(normalize=True).sort_index()*100).plot.bar(title=\"% of overall sales vs #Bathrooms\");"
   ]
  },
  {
   "cell_type": "code",
   "execution_count": 39,
   "metadata": {},
   "outputs": [
    {
     "data": {
      "image/png": "[encoded data removed]",
      "text/plain": [
       "<Figure size 432x288 with 1 Axes>"
      ]
     },
     "metadata": {
      "needs_background": "light"
     },
     "output_type": "display_data"
    }
   ],
   "source": [
    "# Livingspace\n",
    "df=cleaned_non_transformed_metric_df\n",
    "(df.qm_living.value_counts(bins=[0,100,200,400,9999999], normalize=True).sort_index()*100).plot.bar(title=\"% of overall sales vs m2 Livingspace\");"
   ]
  },
  {
   "cell_type": "markdown",
   "metadata": {},
   "source": [
    "### Results\n",
    "The most likely combination for a House to be sold is:\n",
    "* 3 Bedrooms\n",
    "* 2 Bathrooms\n",
    "* 100 - 200 m2 of living space"
   ]
  },
  {
   "cell_type": "markdown",
   "metadata": {},
   "source": [
    "### How are Housing Prices distributed by Location?"
   ]
  },
  {
   "cell_type": "code",
   "execution_count": 40,
   "metadata": {},
   "outputs": [],
   "source": [
    "#setting transformed data as new wokring set\n",
    "cleaned_df = cleaned_transformed_dummy_df.copy()"
   ]
  },
  {
   "cell_type": "code",
   "execution_count": 41,
   "metadata": {},
   "outputs": [],
   "source": [
    "group_zip_df = round(scale(cleaned_df,[2],1/1000).groupby(\"zipcode\").median(),1).sort_values(by=\"price\",ascending=False)"
   ]
  },
  {
   "cell_type": "code",
   "execution_count": 42,
   "metadata": {
    "scrolled": false
   },
   "outputs": [
    {
     "data": {
      "image/png": "[encoded data removed]",
      "text/plain": [
       "<Figure size 1440x576 with 1 Axes>"
      ]
     },
     "metadata": {
      "needs_background": "light"
     },
     "output_type": "display_data"
    }
   ],
   "source": [
    "fig = plt.figure(figsize = (20,8));\n",
    "plt.title(\"Mean House Prices by Zipcode\")\n",
    "plt.ylabel(\"Price in 1000 $\")\n",
    "group_zip_df.price.plot.bar();\n",
    "#cleaned_df = cleaned_df.loc[cleaned_df[\"zipcode\"] != 98039]"
   ]
  },
  {
   "cell_type": "markdown",
   "metadata": {},
   "source": [
    "Grouping the Houseprices by ZIP-Code clearly shows that there is an extreme outlier (98039) which after a short reseach happens to be home of some of the richest people in the world."
   ]
  },
  {
   "cell_type": "markdown",
   "metadata": {},
   "source": [
    "I asume Zip codes are correlated with the price. In Order to take that into account and reduce independent variables for modeling i chose to convert zipcodes to their rank in price"
   ]
  },
  {
   "cell_type": "code",
   "execution_count": 43,
   "metadata": {
    "scrolled": false
   },
   "outputs": [],
   "source": [
    "zip_rank_df=pd.DataFrame(group_zip_df.reset_index()[[\"zipcode\",\"price\"]])\n",
    "zip_rank_df=zip_rank_df.sort_values(by=\"price\",ascending=True).reset_index()\n",
    "zip_rank_df=zip_rank_df.drop(\"price\",axis=1)\n",
    "zip_rank_df=zip_rank_df.rename(columns={\"index\":\"Zip_worth\"})\n",
    "\n",
    "#insert rank for every zipcode in original dataset\n",
    "cleaned_df=cleaned_df.merge(zip_rank_df, on=\"zipcode\")"
   ]
  },
  {
   "cell_type": "markdown",
   "metadata": {},
   "source": [
    "## Modelling"
   ]
  },
  {
   "cell_type": "markdown",
   "metadata": {},
   "source": [
    "The goal of this project is to build a multivariable linear regression model that will be able to estimate housing price data in Kings County."
   ]
  },
  {
   "cell_type": "markdown",
   "metadata": {},
   "source": [
    "### Predictor selection"
   ]
  },
  {
   "cell_type": "code",
   "execution_count": 44,
   "metadata": {},
   "outputs": [
    {
     "data": {
      "text/plain": [
       "Index(['id', 'date', 'price', 'qm_living', 'qm_lot', 'waterfront', 'view',\n",
       "       'qm_above', 'qm_basement', 'yr_built', 'yr_renovated', 'zipcode', 'lat',\n",
       "       'long', 'qm_living15', 'qm_lot15', 'bed__2', 'bed__3', 'bed__4',\n",
       "       'bed__5', 'bed__6+', 'bath__1', 'bath__2', 'bath__3', 'bath__4',\n",
       "       'bath__5+', 'flr__1.5', 'flr__2.0', 'flr__2.5', 'flr__3.0', 'flr__3.5',\n",
       "       'grd__2', 'grd__3', 'grd__4', 'grd__5', 'grd__6', 'grd__7', 'grd__8',\n",
       "       'grd__9', 'grd__10', 'grd__11', 'grd__12', 'grd__13', 'cdt__2',\n",
       "       'cdt__3', 'cdt__4', 'cdt__5', 'cdt__5+', 'Zip_worth'],\n",
       "      dtype='object')"
      ]
     },
     "execution_count": 44,
     "metadata": {},
     "output_type": "execute_result"
    }
   ],
   "source": [
    "cleaned_df.columns"
   ]
  },
  {
   "cell_type": "code",
   "execution_count": 45,
   "metadata": {},
   "outputs": [],
   "source": [
    "df=cleaned_df\n",
    "target = \"price\"\n",
    "predictors = ['waterfront','qm_above','qm_basement',\"Zip_worth\",'qm_living','qm_lot','bed__2', 'bed__3', 'bed__4',\n",
    "       'bed__5', 'bed__6+', 'bath__1', 'bath__2', 'bath__3', 'bath__4',\n",
    "       'bath__5+', 'flr__1.5', 'flr__2.0', 'flr__2.5', 'flr__3.0', 'flr__3.5','grd__2', 'grd__3', 'grd__4', 'grd__5', 'grd__6', 'grd__7', 'grd__8',\n",
    "       'grd__9', 'grd__10', 'grd__11', 'grd__12', 'grd__13']\n",
    "y=df[target]\n",
    "X=df[predictors]"
   ]
  },
  {
   "cell_type": "markdown",
   "metadata": {},
   "source": [
    "### Model building"
   ]
  },
  {
   "cell_type": "code",
   "execution_count": 46,
   "metadata": {},
   "outputs": [],
   "source": [
    "# train_test split\n",
    "from sklearn.linear_model import LinearRegression\n",
    "from sklearn.model_selection import train_test_split\n",
    "X_train, X_test, y_train , y_test = train_test_split(X,y, test_size=0.2)\n",
    "X = X_train\n",
    "y = y_train"
   ]
  },
  {
   "cell_type": "code",
   "execution_count": 47,
   "metadata": {},
   "outputs": [
    {
     "name": "stderr",
     "output_type": "stream",
     "text": [
      "/Users/pietrassyk/anaconda3/lib/python3.7/site-packages/numpy/core/fromnumeric.py:2389: FutureWarning: Method .ptp is deprecated and will be removed in a future version. Use numpy.ptp instead.\n",
      "  return ptp(axis=axis, out=out, **kwargs)\n"
     ]
    }
   ],
   "source": [
    "# Build with Statsmodels to get a model summary\n",
    "import statsmodels.api as sm\n",
    "model_sm = sm.OLS(y,sm.add_constant(X)).fit()"
   ]
  },
  {
   "cell_type": "code",
   "execution_count": 48,
   "metadata": {
    "scrolled": false
   },
   "outputs": [
    {
     "data": {
      "text/html": [
       "<table class=\"simpletable\">\n",
       "<caption>OLS Regression Results</caption>\n",
       "<tr>\n",
       "  <th>Dep. Variable:</th>          <td>price</td>      <th>  R-squared:         </th>  <td>   0.745</td>  \n",
       "</tr>\n",
       "<tr>\n",
       "  <th>Model:</th>                   <td>OLS</td>       <th>  Adj. R-squared:    </th>  <td>   0.745</td>  \n",
       "</tr>\n",
       "<tr>\n",
       "  <th>Method:</th>             <td>Least Squares</td>  <th>  F-statistic:       </th>  <td>   1626.</td>  \n",
       "</tr>\n",
       "<tr>\n",
       "  <th>Date:</th>             <td>Wed, 08 May 2019</td> <th>  Prob (F-statistic):</th>   <td>  0.00</td>   \n",
       "</tr>\n",
       "<tr>\n",
       "  <th>Time:</th>                 <td>10:10:35</td>     <th>  Log-Likelihood:    </th> <td>-2.3423e+05</td>\n",
       "</tr>\n",
       "<tr>\n",
       "  <th>No. Observations:</th>      <td> 17277</td>      <th>  AIC:               </th>  <td>4.685e+05</td> \n",
       "</tr>\n",
       "<tr>\n",
       "  <th>Df Residuals:</th>          <td> 17245</td>      <th>  BIC:               </th>  <td>4.688e+05</td> \n",
       "</tr>\n",
       "<tr>\n",
       "  <th>Df Model:</th>              <td>    31</td>      <th>                     </th>      <td> </td>     \n",
       "</tr>\n",
       "<tr>\n",
       "  <th>Covariance Type:</th>      <td>nonrobust</td>    <th>                     </th>      <td> </td>     \n",
       "</tr>\n",
       "</table>\n",
       "<table class=\"simpletable\">\n",
       "<tr>\n",
       "       <td></td>          <th>coef</th>     <th>std err</th>      <th>t</th>      <th>P>|t|</th>  <th>[0.025</th>    <th>0.975]</th>  \n",
       "</tr>\n",
       "<tr>\n",
       "  <th>const</th>       <td>-1.348e+05</td> <td> 4.08e+04</td> <td>   -3.306</td> <td> 0.001</td> <td>-2.15e+05</td> <td>-5.49e+04</td>\n",
       "</tr>\n",
       "<tr>\n",
       "  <th>waterfront</th>  <td> 8.267e+05</td> <td>  1.8e+04</td> <td>   45.872</td> <td> 0.000</td> <td> 7.91e+05</td> <td> 8.62e+05</td>\n",
       "</tr>\n",
       "<tr>\n",
       "  <th>qm_above</th>    <td> 1.057e+05</td> <td> 1.42e+04</td> <td>    7.416</td> <td> 0.000</td> <td> 7.77e+04</td> <td> 1.34e+05</td>\n",
       "</tr>\n",
       "<tr>\n",
       "  <th>qm_basement</th> <td> 5.634e+04</td> <td> 5904.969</td> <td>    9.540</td> <td> 0.000</td> <td> 4.48e+04</td> <td> 6.79e+04</td>\n",
       "</tr>\n",
       "<tr>\n",
       "  <th>Zip_worth</th>   <td>-7005.2041</td> <td>   82.796</td> <td>  -84.608</td> <td> 0.000</td> <td>-7167.494</td> <td>-6842.915</td>\n",
       "</tr>\n",
       "<tr>\n",
       "  <th>qm_living</th>   <td> 1.689e+05</td> <td>  1.4e+04</td> <td>   12.033</td> <td> 0.000</td> <td> 1.41e+05</td> <td> 1.96e+05</td>\n",
       "</tr>\n",
       "<tr>\n",
       "  <th>qm_lot</th>      <td>-1.166e+04</td> <td> 2025.084</td> <td>   -5.756</td> <td> 0.000</td> <td>-1.56e+04</td> <td>-7686.818</td>\n",
       "</tr>\n",
       "<tr>\n",
       "  <th>bed__2</th>      <td>-3.851e+04</td> <td> 1.63e+04</td> <td>   -2.367</td> <td> 0.018</td> <td>-7.04e+04</td> <td>-6622.379</td>\n",
       "</tr>\n",
       "<tr>\n",
       "  <th>bed__3</th>      <td>-6.953e+04</td> <td> 1.64e+04</td> <td>   -4.248</td> <td> 0.000</td> <td>-1.02e+05</td> <td>-3.74e+04</td>\n",
       "</tr>\n",
       "<tr>\n",
       "  <th>bed__4</th>      <td>-7.992e+04</td> <td> 1.68e+04</td> <td>   -4.754</td> <td> 0.000</td> <td>-1.13e+05</td> <td> -4.7e+04</td>\n",
       "</tr>\n",
       "<tr>\n",
       "  <th>bed__5</th>      <td>-5.876e+04</td> <td> 1.77e+04</td> <td>   -3.328</td> <td> 0.001</td> <td>-9.34e+04</td> <td>-2.42e+04</td>\n",
       "</tr>\n",
       "<tr>\n",
       "  <th>bed__6+</th>     <td>-7.957e+04</td> <td> 2.07e+04</td> <td>   -3.838</td> <td> 0.000</td> <td> -1.2e+05</td> <td>-3.89e+04</td>\n",
       "</tr>\n",
       "<tr>\n",
       "  <th>bath__1</th>     <td> 1.741e+04</td> <td> 2.49e+04</td> <td>    0.700</td> <td> 0.484</td> <td>-3.14e+04</td> <td> 6.62e+04</td>\n",
       "</tr>\n",
       "<tr>\n",
       "  <th>bath__2</th>     <td>-2724.1322</td> <td> 2.52e+04</td> <td>   -0.108</td> <td> 0.914</td> <td>-5.21e+04</td> <td> 4.66e+04</td>\n",
       "</tr>\n",
       "<tr>\n",
       "  <th>bath__3</th>     <td> 7.084e+04</td> <td> 2.57e+04</td> <td>    2.751</td> <td> 0.006</td> <td> 2.04e+04</td> <td> 1.21e+05</td>\n",
       "</tr>\n",
       "<tr>\n",
       "  <th>bath__4</th>     <td> 2.435e+05</td> <td> 2.83e+04</td> <td>    8.602</td> <td> 0.000</td> <td> 1.88e+05</td> <td> 2.99e+05</td>\n",
       "</tr>\n",
       "<tr>\n",
       "  <th>bath__5+</th>    <td>  5.78e+05</td> <td> 3.79e+04</td> <td>   15.251</td> <td> 0.000</td> <td> 5.04e+05</td> <td> 6.52e+05</td>\n",
       "</tr>\n",
       "<tr>\n",
       "  <th>flr__1.5</th>    <td> 3.893e+04</td> <td> 5499.104</td> <td>    7.080</td> <td> 0.000</td> <td> 2.82e+04</td> <td> 4.97e+04</td>\n",
       "</tr>\n",
       "<tr>\n",
       "  <th>flr__2.0</th>    <td>-4.918e+04</td> <td> 4735.589</td> <td>  -10.384</td> <td> 0.000</td> <td>-5.85e+04</td> <td>-3.99e+04</td>\n",
       "</tr>\n",
       "<tr>\n",
       "  <th>flr__2.5</th>    <td> 9.353e+04</td> <td>  1.7e+04</td> <td>    5.496</td> <td> 0.000</td> <td> 6.02e+04</td> <td> 1.27e+05</td>\n",
       "</tr>\n",
       "<tr>\n",
       "  <th>flr__3.0</th>    <td>-3.998e+04</td> <td> 1.01e+04</td> <td>   -3.958</td> <td> 0.000</td> <td>-5.98e+04</td> <td>-2.02e+04</td>\n",
       "</tr>\n",
       "<tr>\n",
       "  <th>flr__3.5</th>    <td> 8.698e+04</td> <td> 7.11e+04</td> <td>    1.223</td> <td> 0.221</td> <td>-5.24e+04</td> <td> 2.26e+05</td>\n",
       "</tr>\n",
       "<tr>\n",
       "  <th>grd__2</th>      <td>-2.584e-10</td> <td>  2.4e-11</td> <td>  -10.786</td> <td> 0.000</td> <td>-3.05e-10</td> <td>-2.11e-10</td>\n",
       "</tr>\n",
       "<tr>\n",
       "  <th>grd__3</th>      <td>-1.717e+05</td> <td> 1.73e+05</td> <td>   -0.992</td> <td> 0.321</td> <td>-5.11e+05</td> <td> 1.68e+05</td>\n",
       "</tr>\n",
       "<tr>\n",
       "  <th>grd__4</th>      <td>-3.729e+05</td> <td> 3.94e+04</td> <td>   -9.475</td> <td> 0.000</td> <td> -4.5e+05</td> <td>-2.96e+05</td>\n",
       "</tr>\n",
       "<tr>\n",
       "  <th>grd__5</th>      <td>-4.229e+05</td> <td> 2.14e+04</td> <td>  -19.723</td> <td> 0.000</td> <td>-4.65e+05</td> <td>-3.81e+05</td>\n",
       "</tr>\n",
       "<tr>\n",
       "  <th>grd__6</th>      <td>-4.215e+05</td> <td> 1.83e+04</td> <td>  -22.983</td> <td> 0.000</td> <td>-4.57e+05</td> <td>-3.86e+05</td>\n",
       "</tr>\n",
       "<tr>\n",
       "  <th>grd__7</th>      <td>-4.342e+05</td> <td>  1.8e+04</td> <td>  -24.058</td> <td> 0.000</td> <td> -4.7e+05</td> <td>-3.99e+05</td>\n",
       "</tr>\n",
       "<tr>\n",
       "  <th>grd__8</th>      <td>-4.013e+05</td> <td> 1.82e+04</td> <td>  -21.997</td> <td> 0.000</td> <td>-4.37e+05</td> <td>-3.66e+05</td>\n",
       "</tr>\n",
       "<tr>\n",
       "  <th>grd__9</th>      <td> -2.89e+05</td> <td> 1.87e+04</td> <td>  -15.423</td> <td> 0.000</td> <td>-3.26e+05</td> <td>-2.52e+05</td>\n",
       "</tr>\n",
       "<tr>\n",
       "  <th>grd__10</th>     <td>-1.242e+05</td> <td> 1.95e+04</td> <td>   -6.371</td> <td> 0.000</td> <td>-1.62e+05</td> <td> -8.6e+04</td>\n",
       "</tr>\n",
       "<tr>\n",
       "  <th>grd__11</th>     <td> 1.337e+05</td> <td> 2.13e+04</td> <td>    6.274</td> <td> 0.000</td> <td> 9.19e+04</td> <td> 1.75e+05</td>\n",
       "</tr>\n",
       "<tr>\n",
       "  <th>grd__12</th>     <td> 6.949e+05</td> <td> 2.86e+04</td> <td>   24.326</td> <td> 0.000</td> <td> 6.39e+05</td> <td> 7.51e+05</td>\n",
       "</tr>\n",
       "<tr>\n",
       "  <th>grd__13</th>     <td> 1.674e+06</td> <td> 5.46e+04</td> <td>   30.644</td> <td> 0.000</td> <td> 1.57e+06</td> <td> 1.78e+06</td>\n",
       "</tr>\n",
       "</table>\n",
       "<table class=\"simpletable\">\n",
       "<tr>\n",
       "  <th>Omnibus:</th>       <td>13859.041</td> <th>  Durbin-Watson:     </th>  <td>   2.016</td>  \n",
       "</tr>\n",
       "<tr>\n",
       "  <th>Prob(Omnibus):</th>  <td> 0.000</td>   <th>  Jarque-Bera (JB):  </th> <td>1391963.983</td>\n",
       "</tr>\n",
       "<tr>\n",
       "  <th>Skew:</th>           <td> 3.229</td>   <th>  Prob(JB):          </th>  <td>    0.00</td>  \n",
       "</tr>\n",
       "<tr>\n",
       "  <th>Kurtosis:</th>       <td>46.496</td>   <th>  Cond. No.          </th>  <td>1.13e+16</td>  \n",
       "</tr>\n",
       "</table><br/><br/>Warnings:<br/>[1] Standard Errors assume that the covariance matrix of the errors is correctly specified.<br/>[2] The smallest eigenvalue is 2.21e-25. This might indicate that there are<br/>strong multicollinearity problems or that the design matrix is singular."
      ],
      "text/plain": [
       "<class 'statsmodels.iolib.summary.Summary'>\n",
       "\"\"\"\n",
       "                            OLS Regression Results                            \n",
       "==============================================================================\n",
       "Dep. Variable:                  price   R-squared:                       0.745\n",
       "Model:                            OLS   Adj. R-squared:                  0.745\n",
       "Method:                 Least Squares   F-statistic:                     1626.\n",
       "Date:                Wed, 08 May 2019   Prob (F-statistic):               0.00\n",
       "Time:                        10:10:35   Log-Likelihood:            -2.3423e+05\n",
       "No. Observations:               17277   AIC:                         4.685e+05\n",
       "Df Residuals:                   17245   BIC:                         4.688e+05\n",
       "Df Model:                          31                                         \n",
       "Covariance Type:            nonrobust                                         \n",
       "===============================================================================\n",
       "                  coef    std err          t      P>|t|      [0.025      0.975]\n",
       "-------------------------------------------------------------------------------\n",
       "const       -1.348e+05   4.08e+04     -3.306      0.001   -2.15e+05   -5.49e+04\n",
       "waterfront   8.267e+05    1.8e+04     45.872      0.000    7.91e+05    8.62e+05\n",
       "qm_above     1.057e+05   1.42e+04      7.416      0.000    7.77e+04    1.34e+05\n",
       "qm_basement  5.634e+04   5904.969      9.540      0.000    4.48e+04    6.79e+04\n",
       "Zip_worth   -7005.2041     82.796    -84.608      0.000   -7167.494   -6842.915\n",
       "qm_living    1.689e+05    1.4e+04     12.033      0.000    1.41e+05    1.96e+05\n",
       "qm_lot      -1.166e+04   2025.084     -5.756      0.000   -1.56e+04   -7686.818\n",
       "bed__2      -3.851e+04   1.63e+04     -2.367      0.018   -7.04e+04   -6622.379\n",
       "bed__3      -6.953e+04   1.64e+04     -4.248      0.000   -1.02e+05   -3.74e+04\n",
       "bed__4      -7.992e+04   1.68e+04     -4.754      0.000   -1.13e+05    -4.7e+04\n",
       "bed__5      -5.876e+04   1.77e+04     -3.328      0.001   -9.34e+04   -2.42e+04\n",
       "bed__6+     -7.957e+04   2.07e+04     -3.838      0.000    -1.2e+05   -3.89e+04\n",
       "bath__1      1.741e+04   2.49e+04      0.700      0.484   -3.14e+04    6.62e+04\n",
       "bath__2     -2724.1322   2.52e+04     -0.108      0.914   -5.21e+04    4.66e+04\n",
       "bath__3      7.084e+04   2.57e+04      2.751      0.006    2.04e+04    1.21e+05\n",
       "bath__4      2.435e+05   2.83e+04      8.602      0.000    1.88e+05    2.99e+05\n",
       "bath__5+      5.78e+05   3.79e+04     15.251      0.000    5.04e+05    6.52e+05\n",
       "flr__1.5     3.893e+04   5499.104      7.080      0.000    2.82e+04    4.97e+04\n",
       "flr__2.0    -4.918e+04   4735.589    -10.384      0.000   -5.85e+04   -3.99e+04\n",
       "flr__2.5     9.353e+04    1.7e+04      5.496      0.000    6.02e+04    1.27e+05\n",
       "flr__3.0    -3.998e+04   1.01e+04     -3.958      0.000   -5.98e+04   -2.02e+04\n",
       "flr__3.5     8.698e+04   7.11e+04      1.223      0.221   -5.24e+04    2.26e+05\n",
       "grd__2      -2.584e-10    2.4e-11    -10.786      0.000   -3.05e-10   -2.11e-10\n",
       "grd__3      -1.717e+05   1.73e+05     -0.992      0.321   -5.11e+05    1.68e+05\n",
       "grd__4      -3.729e+05   3.94e+04     -9.475      0.000    -4.5e+05   -2.96e+05\n",
       "grd__5      -4.229e+05   2.14e+04    -19.723      0.000   -4.65e+05   -3.81e+05\n",
       "grd__6      -4.215e+05   1.83e+04    -22.983      0.000   -4.57e+05   -3.86e+05\n",
       "grd__7      -4.342e+05    1.8e+04    -24.058      0.000    -4.7e+05   -3.99e+05\n",
       "grd__8      -4.013e+05   1.82e+04    -21.997      0.000   -4.37e+05   -3.66e+05\n",
       "grd__9       -2.89e+05   1.87e+04    -15.423      0.000   -3.26e+05   -2.52e+05\n",
       "grd__10     -1.242e+05   1.95e+04     -6.371      0.000   -1.62e+05    -8.6e+04\n",
       "grd__11      1.337e+05   2.13e+04      6.274      0.000    9.19e+04    1.75e+05\n",
       "grd__12      6.949e+05   2.86e+04     24.326      0.000    6.39e+05    7.51e+05\n",
       "grd__13      1.674e+06   5.46e+04     30.644      0.000    1.57e+06    1.78e+06\n",
       "==============================================================================\n",
       "Omnibus:                    13859.041   Durbin-Watson:                   2.016\n",
       "Prob(Omnibus):                  0.000   Jarque-Bera (JB):          1391963.983\n",
       "Skew:                           3.229   Prob(JB):                         0.00\n",
       "Kurtosis:                      46.496   Cond. No.                     1.13e+16\n",
       "==============================================================================\n",
       "\n",
       "Warnings:\n",
       "[1] Standard Errors assume that the covariance matrix of the errors is correctly specified.\n",
       "[2] The smallest eigenvalue is 2.21e-25. This might indicate that there are\n",
       "strong multicollinearity problems or that the design matrix is singular.\n",
       "\"\"\""
      ]
     },
     "execution_count": 48,
     "metadata": {},
     "output_type": "execute_result"
    }
   ],
   "source": [
    "model_sm.summary()"
   ]
  },
  {
   "cell_type": "code",
   "execution_count": 49,
   "metadata": {},
   "outputs": [],
   "source": [
    "#build with sklearn for model evaluation\n",
    "model_sk = LinearRegression()\n",
    "model_sk.fit(X,y);"
   ]
  },
  {
   "cell_type": "markdown",
   "metadata": {},
   "source": [
    "### Model Evaluation"
   ]
  },
  {
   "cell_type": "code",
   "execution_count": 50,
   "metadata": {},
   "outputs": [],
   "source": [
    "# Calculat RMSE values\n",
    "\n",
    "y_train_pred = model_sk.predict(X_train)\n",
    "y_test_pred = model_sk.predict(X_test)\n",
    "\n",
    "from sklearn import metrics\n",
    "RMSE_train = np.sqrt(metrics.mean_squared_error(y_train,y_train_pred))\n",
    "RMSE_test = np.sqrt(metrics.mean_squared_error(y_test,y_test_pred))"
   ]
  },
  {
   "cell_type": "code",
   "execution_count": 51,
   "metadata": {},
   "outputs": [],
   "source": [
    "# Verification throgh K-fold\n",
    "from sklearn.model_selection import cross_val_score\n",
    "df=cleaned_df\n",
    "y=df[target]\n",
    "X=df[predictors]\n",
    "k_folds_RMSE = round(np.sqrt(-np.mean(cross_val_score(model_sk,X,y,cv=15,scoring=\"neg_mean_squared_error\")))/1000)\n"
   ]
  },
  {
   "cell_type": "code",
   "execution_count": 52,
   "metadata": {
    "scrolled": true
   },
   "outputs": [
    {
     "name": "stdout",
     "output_type": "stream",
     "text": [
      "Train RMSE: $187.0 K | Test RMSE: $184.0 K\n",
      "mean RMSE derived from K-Folds: $193.0 K\n",
      "RMSE_train/RMSE_test = -1.84 %\n",
      "Median Value of a house in KC: $450.0 K\n"
     ]
    }
   ],
   "source": [
    "print (\"Train RMSE: ${} K | Test RMSE: ${} K\".format(round(RMSE_train/1000),round(RMSE_test/1000)))\n",
    "print (\"mean RMSE derived from K-Folds: ${} K\".format(k_folds_RMSE))\n",
    "print (\"RMSE_train/RMSE_test = {} %\".format(round((1-RMSE_train/RMSE_test)*100,2)))\n",
    "print (\"Median Value of a house in KC: ${} K\".format(cleaned_df.price.median()/1000))"
   ]
  },
  {
   "cell_type": "markdown",
   "metadata": {},
   "source": [
    "### Interpretation\n",
    "\n",
    "* The model is moderately good at predicting the variation in the Data. This can be estimated by the R2 Value of 0.74+\n",
    "* Overfitting does not seem to be a problem, since the RMSE values between train and test predictions just differ at roughly 2.3%\n",
    "* The precission of the models prediction is not very accurate, since the mean error is at around 50% of the median house price in KC"
   ]
  },
  {
   "cell_type": "code",
   "execution_count": 53,
   "metadata": {},
   "outputs": [
    {
     "data": {
      "image/png": "[encoded data removed]",
      "text/plain": [
       "<Figure size 1080x576 with 1 Axes>"
      ]
     },
     "metadata": {
      "needs_background": "light"
     },
     "output_type": "display_data"
    }
   ],
   "source": [
    "fig = plt.figure(figsize=(15,8))\n",
    "plt.scatter(y_test.sort_index().index,y_test.sort_values(), label = \"Real\", marker=\".\")\n",
    "plt.scatter(y_test.sort_index().index,pd.Series(y_test_pred).sort_values(), label = \"Predicted\", marker = \".\");\n",
    "plt.title(\"Predicted and real House Prices\")\n",
    "plt.tick_params(\n",
    "    axis='x',          # changes apply to the x-axis\n",
    "    which='both',      # both major and minor ticks are affected\n",
    "    bottom=False,      # ticks along the bottom edge are off\n",
    "    top=False,         # ticks along the top edge are off\n",
    "    labelbottom=False) # labels along the bottom edge are off\n",
    "plt.ylabel(\"Price in $\")\n",
    "plt.legend();"
   ]
  },
  {
   "cell_type": "markdown",
   "metadata": {},
   "source": [
    "## Export"
   ]
  },
  {
   "cell_type": "code",
   "execution_count": 61,
   "metadata": {},
   "outputs": [],
   "source": [
    "export_df = dummy_transformation(cleaned_non_transformed_df,col_kwargs,0)"
   ]
  },
  {
   "cell_type": "code",
   "execution_count": 55,
   "metadata": {},
   "outputs": [],
   "source": [
    "#export_df.to_csv(\"cleaned_df_export.csv\")"
   ]
  },
  {
   "cell_type": "markdown",
   "metadata": {},
   "source": [
    "## Appendix"
   ]
  },
  {
   "cell_type": "markdown",
   "metadata": {
    "scrolled": false
   },
   "source": [
    "\"\"\"#Splitting the Dataset in Appartements and Houses\n",
    "\n",
    "low_thresh = cleaned_df.qm_lot.quantile(q=.1)\n",
    "high_thresh = cleaned_df.qm_lot.quantile(q=.9)\n",
    "\n",
    "temp_app = df.loc[df[\"qm_lot\"]<=low_thresh]\n",
    "temp_house = df.loc[(df[\"qm_lot\"]>low_thresh)&(df[\"qm_lot\"]<high_thresh)]\n",
    "temp_outliers = df.loc[df[\"qm_lot\"]>=high_thresh]\n",
    "\n",
    "categorize_function = lambda x: \"Manison\" if x >= high_thresh else \"House\" if x >low_thresh else \"Appartement\"\n",
    "cleaned_df[\"kind\"] = cleaned_df[\"qm_lot\"].apply(categorize_function)\"\"\""
   ]
  },
  {
   "cell_type": "markdown",
   "metadata": {
    "scrolled": false
   },
   "source": [
    "\"\"\"cleaned_df.groupby(\"kind\")[\"price\",\"bedrooms\",\"grade\",\"qm_living\",\"yr_built\",\"floors\"].mean()\"\"\""
   ]
  },
  {
   "cell_type": "markdown",
   "metadata": {},
   "source": [
    "\n",
    "#Setting target (y) and possible predictors(X)\n",
    "y = cleaned_non_dummy_df.price\n",
    "X = cleaned_non_dummy_df.drop(\"price\",axis = 1)\n",
    "X = X.drop(\"date\",axis = 1)\n",
    "X = X.drop(\"lat\",axis = 1)\n",
    "X = X.drop(\"long\",axis = 1)\n",
    "X = X.drop(\"view\",axis = 1)"
   ]
  },
  {
   "cell_type": "markdown",
   "metadata": {},
   "source": [
    "#feature Ranking\n",
    "from sklearn.feature_selection import RFE\n",
    "\n",
    "\n",
    "linreg = LinearRegression()\n",
    "selector = RFE(linreg, n_features_to_select = 5)\n",
    "selector = selector.fit(X, y)"
   ]
  },
  {
   "cell_type": "markdown",
   "metadata": {
    "scrolled": true
   },
   "source": [
    "selector.support_"
   ]
  },
  {
   "cell_type": "markdown",
   "metadata": {
    "scrolled": true
   },
   "source": [
    "selector.ranking_"
   ]
  }
 ],
 "metadata": {
  "kernelspec": {
   "display_name": "Python 3",
   "language": "python",
   "name": "python3"
  },
  "language_info": {
   "codemirror_mode": {
    "name": "ipython",
    "version": 3
   },
   "file_extension": ".py",
   "mimetype": "text/x-python",
   "name": "python",
   "nbconvert_exporter": "python",
   "pygments_lexer": "ipython3",
   "version": "3.7.3"
  }
 },
 "nbformat": 4,
 "nbformat_minor": 2
}
